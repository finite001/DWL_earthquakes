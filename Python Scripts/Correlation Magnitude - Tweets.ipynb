{
 "cells": [
  {
   "cell_type": "markdown",
   "metadata": {},
   "source": [
    "# Is there a correlation between the magnitude of an earthquake and the amount of tweets sent within 48 hours?"
   ]
  },
  {
   "cell_type": "code",
   "execution_count": 2,
   "metadata": {},
   "outputs": [],
   "source": [
    "import pandas as pd\n",
    "import matplotlib.pyplot as plt\n",
    "import psycopg2"
   ]
  },
  {
   "cell_type": "code",
   "execution_count": 3,
   "metadata": {},
   "outputs": [],
   "source": [
    "conn = psycopg2.connect(\n",
    "    host=\"dbprojecteq.cefqf86eooid.us-east-1.rds.amazonaws.com\",\n",
    "    database=\"dbeq\",\n",
    "    user=\"iaschwen\",\n",
    "    password=\"\")"
   ]
  },
  {
   "cell_type": "code",
   "execution_count": 4,
   "metadata": {},
   "outputs": [],
   "source": [
    "cur = conn.cursor()"
   ]
  },
  {
   "cell_type": "markdown",
   "metadata": {},
   "source": [
    "## Quakes"
   ]
  },
  {
   "cell_type": "code",
   "execution_count": 5,
   "metadata": {},
   "outputs": [],
   "source": [
    "cur.execute('SELECT * FROM quakes')"
   ]
  },
  {
   "cell_type": "code",
   "execution_count": 7,
   "metadata": {},
   "outputs": [],
   "source": [
    "quakes = pd.DataFrame(cur.fetchall())"
   ]
  },
  {
   "cell_type": "code",
   "execution_count": 9,
   "metadata": {},
   "outputs": [
    {
     "data": {
      "text/html": [
       "<div>\n",
       "<style scoped>\n",
       "    .dataframe tbody tr th:only-of-type {\n",
       "        vertical-align: middle;\n",
       "    }\n",
       "\n",
       "    .dataframe tbody tr th {\n",
       "        vertical-align: top;\n",
       "    }\n",
       "\n",
       "    .dataframe thead th {\n",
       "        text-align: right;\n",
       "    }\n",
       "</style>\n",
       "<table border=\"1\" class=\"dataframe\">\n",
       "  <thead>\n",
       "    <tr style=\"text-align: right;\">\n",
       "      <th></th>\n",
       "      <th>0</th>\n",
       "      <th>1</th>\n",
       "      <th>2</th>\n",
       "      <th>3</th>\n",
       "      <th>4</th>\n",
       "      <th>5</th>\n",
       "      <th>6</th>\n",
       "      <th>7</th>\n",
       "    </tr>\n",
       "  </thead>\n",
       "  <tbody>\n",
       "    <tr>\n",
       "      <th>0</th>\n",
       "      <td>usp000hsb2</td>\n",
       "      <td>5.0</td>\n",
       "      <td>1293744150350</td>\n",
       "      <td>earthquake</td>\n",
       "      <td>M 5.0 - 108 km WSW of Isangel, Vanuatu</td>\n",
       "      <td>168.3530</td>\n",
       "      <td>-19.9840</td>\n",
       "      <td>None</td>\n",
       "    </tr>\n",
       "    <tr>\n",
       "      <th>1</th>\n",
       "      <td>usp000hsax</td>\n",
       "      <td>5.0</td>\n",
       "      <td>1293738996380</td>\n",
       "      <td>earthquake</td>\n",
       "      <td>M 5.0 - 156 km WSW of Severo-Kuril’sk, Russia</td>\n",
       "      <td>153.9640</td>\n",
       "      <td>50.3800</td>\n",
       "      <td>None</td>\n",
       "    </tr>\n",
       "    <tr>\n",
       "      <th>2</th>\n",
       "      <td>ak010gqb24bq</td>\n",
       "      <td>5.0</td>\n",
       "      <td>1293736886463</td>\n",
       "      <td>earthquake</td>\n",
       "      <td>M 5.0 - 113 km SE of Ugashik, Alaska</td>\n",
       "      <td>-156.1674</td>\n",
       "      <td>56.7391</td>\n",
       "      <td>None</td>\n",
       "    </tr>\n",
       "    <tr>\n",
       "      <th>3</th>\n",
       "      <td>usp000hsah</td>\n",
       "      <td>5.0</td>\n",
       "      <td>1293728174930</td>\n",
       "      <td>earthquake</td>\n",
       "      <td>M 5.0 - 21 km NE of Pilar, Philippines</td>\n",
       "      <td>126.2490</td>\n",
       "      <td>9.9890</td>\n",
       "      <td>None</td>\n",
       "    </tr>\n",
       "  </tbody>\n",
       "</table>\n",
       "</div>"
      ],
      "text/plain": [
       "              0    1              2           3  \\\n",
       "0    usp000hsb2  5.0  1293744150350  earthquake   \n",
       "1    usp000hsax  5.0  1293738996380  earthquake   \n",
       "2  ak010gqb24bq  5.0  1293736886463  earthquake   \n",
       "3    usp000hsah  5.0  1293728174930  earthquake   \n",
       "\n",
       "                                               4         5        6     7  \n",
       "0         M 5.0 - 108 km WSW of Isangel, Vanuatu  168.3530 -19.9840  None  \n",
       "1  M 5.0 - 156 km WSW of Severo-Kuril’sk, Russia  153.9640  50.3800  None  \n",
       "2           M 5.0 - 113 km SE of Ugashik, Alaska -156.1674  56.7391  None  \n",
       "3         M 5.0 - 21 km NE of Pilar, Philippines  126.2490   9.9890  None  "
      ]
     },
     "execution_count": 9,
     "metadata": {},
     "output_type": "execute_result"
    }
   ],
   "source": [
    "# All quakes in one pandas df\n",
    "quakes.head(4)"
   ]
  },
  {
   "cell_type": "code",
   "execution_count": 26,
   "metadata": {},
   "outputs": [],
   "source": [
    "quakes['date'] = pd.to_datetime(quakes[2],unit='ms')"
   ]
  },
  {
   "cell_type": "markdown",
   "metadata": {},
   "source": [
    "## Tweets"
   ]
  },
  {
   "cell_type": "code",
   "execution_count": 17,
   "metadata": {},
   "outputs": [],
   "source": [
    "cur.execute('SELECT * FROM tweetcount')"
   ]
  },
  {
   "cell_type": "code",
   "execution_count": 18,
   "metadata": {},
   "outputs": [],
   "source": [
    "tweetcount = pd.DataFrame(cur.fetchall(), columns=['start','end','count'])"
   ]
  },
  {
   "cell_type": "code",
   "execution_count": 30,
   "metadata": {},
   "outputs": [
    {
     "data": {
      "text/html": [
       "<div>\n",
       "<style scoped>\n",
       "    .dataframe tbody tr th:only-of-type {\n",
       "        vertical-align: middle;\n",
       "    }\n",
       "\n",
       "    .dataframe tbody tr th {\n",
       "        vertical-align: top;\n",
       "    }\n",
       "\n",
       "    .dataframe thead th {\n",
       "        text-align: right;\n",
       "    }\n",
       "</style>\n",
       "<table border=\"1\" class=\"dataframe\">\n",
       "  <thead>\n",
       "    <tr style=\"text-align: right;\">\n",
       "      <th></th>\n",
       "      <th>start</th>\n",
       "      <th>end</th>\n",
       "      <th>count</th>\n",
       "      <th>date</th>\n",
       "    </tr>\n",
       "  </thead>\n",
       "  <tbody>\n",
       "    <tr>\n",
       "      <th>0</th>\n",
       "      <td>2021-09-30T00:00:00.000Z</td>\n",
       "      <td>2021-10-01T00:00:00.000Z</td>\n",
       "      <td>3037</td>\n",
       "      <td>2021-09-30 00:00:00+00:00</td>\n",
       "    </tr>\n",
       "    <tr>\n",
       "      <th>1</th>\n",
       "      <td>2021-10-01T00:00:00.000Z</td>\n",
       "      <td>2021-10-02T00:00:00.000Z</td>\n",
       "      <td>2475</td>\n",
       "      <td>2021-10-01 00:00:00+00:00</td>\n",
       "    </tr>\n",
       "    <tr>\n",
       "      <th>2</th>\n",
       "      <td>2021-10-02T00:00:00.000Z</td>\n",
       "      <td>2021-10-03T00:00:00.000Z</td>\n",
       "      <td>4769</td>\n",
       "      <td>2021-10-02 00:00:00+00:00</td>\n",
       "    </tr>\n",
       "    <tr>\n",
       "      <th>3</th>\n",
       "      <td>2021-10-03T00:00:00.000Z</td>\n",
       "      <td>2021-10-04T00:00:00.000Z</td>\n",
       "      <td>2843</td>\n",
       "      <td>2021-10-03 00:00:00+00:00</td>\n",
       "    </tr>\n",
       "  </tbody>\n",
       "</table>\n",
       "</div>"
      ],
      "text/plain": [
       "                      start                       end  count  \\\n",
       "0  2021-09-30T00:00:00.000Z  2021-10-01T00:00:00.000Z   3037   \n",
       "1  2021-10-01T00:00:00.000Z  2021-10-02T00:00:00.000Z   2475   \n",
       "2  2021-10-02T00:00:00.000Z  2021-10-03T00:00:00.000Z   4769   \n",
       "3  2021-10-03T00:00:00.000Z  2021-10-04T00:00:00.000Z   2843   \n",
       "\n",
       "                       date  \n",
       "0 2021-09-30 00:00:00+00:00  \n",
       "1 2021-10-01 00:00:00+00:00  \n",
       "2 2021-10-02 00:00:00+00:00  \n",
       "3 2021-10-03 00:00:00+00:00  "
      ]
     },
     "execution_count": 30,
     "metadata": {},
     "output_type": "execute_result"
    }
   ],
   "source": [
    "# All tweetcounts in one pandas df\n",
    "tweetcount.head(4)"
   ]
  },
  {
   "cell_type": "code",
   "execution_count": 47,
   "metadata": {},
   "outputs": [],
   "source": [
    "tweetcount['date'] = pd.to_datetime(tweetcount['start'])#.strftime('%Y-%m-%d')"
   ]
  },
  {
   "cell_type": "code",
   "execution_count": 48,
   "metadata": {},
   "outputs": [],
   "source": [
    "tweetcount['DateStr'] = tweetcount['date'].dt.strftime('%Y-%m-%d')\n"
   ]
  },
  {
   "cell_type": "markdown",
   "metadata": {},
   "source": [
    "## Merge these two dataframes"
   ]
  },
  {
   "cell_type": "code",
   "execution_count": 50,
   "metadata": {},
   "outputs": [
    {
     "data": {
      "text/html": [
       "<div>\n",
       "<style scoped>\n",
       "    .dataframe tbody tr th:only-of-type {\n",
       "        vertical-align: middle;\n",
       "    }\n",
       "\n",
       "    .dataframe tbody tr th {\n",
       "        vertical-align: top;\n",
       "    }\n",
       "\n",
       "    .dataframe thead th {\n",
       "        text-align: right;\n",
       "    }\n",
       "</style>\n",
       "<table border=\"1\" class=\"dataframe\">\n",
       "  <thead>\n",
       "    <tr style=\"text-align: right;\">\n",
       "      <th></th>\n",
       "      <th>start</th>\n",
       "      <th>end</th>\n",
       "      <th>count</th>\n",
       "      <th>date</th>\n",
       "      <th>DateStr</th>\n",
       "    </tr>\n",
       "  </thead>\n",
       "  <tbody>\n",
       "    <tr>\n",
       "      <th>3955</th>\n",
       "      <td>2011-01-19T00:00:00.000Z</td>\n",
       "      <td>2011-01-20T00:00:00.000Z</td>\n",
       "      <td>7516</td>\n",
       "      <td>2011-01-19 00:00:00+00:00</td>\n",
       "      <td>2011-01-19</td>\n",
       "    </tr>\n",
       "  </tbody>\n",
       "</table>\n",
       "</div>"
      ],
      "text/plain": [
       "                         start                       end  count  \\\n",
       "3955  2011-01-19T00:00:00.000Z  2011-01-20T00:00:00.000Z   7516   \n",
       "\n",
       "                          date     DateStr  \n",
       "3955 2011-01-19 00:00:00+00:00  2011-01-19  "
      ]
     },
     "execution_count": 50,
     "metadata": {},
     "output_type": "execute_result"
    }
   ],
   "source": [
    "tweetcount.tail(1)"
   ]
  },
  {
   "cell_type": "code",
   "execution_count": 55,
   "metadata": {},
   "outputs": [
    {
     "data": {
      "text/plain": [
       "'2011-01-13'"
      ]
     },
     "execution_count": 55,
     "metadata": {},
     "output_type": "execute_result"
    }
   ],
   "source": [
    "quakes.iloc[5000]['date'].strftime('%Y-%m-%d')"
   ]
  },
  {
   "cell_type": "code",
   "execution_count": 61,
   "metadata": {},
   "outputs": [
    {
     "data": {
      "text/plain": [
       "10259"
      ]
     },
     "execution_count": 61,
     "metadata": {},
     "output_type": "execute_result"
    }
   ],
   "source": [
    "tweetcount[tweetcount['DateStr']>=quakes.iloc[5000]['date'].strftime('%Y-%m-%d')].sort_values('start').head(2)['count'].sum()"
   ]
  },
  {
   "cell_type": "code",
   "execution_count": 64,
   "metadata": {},
   "outputs": [],
   "source": [
    "def getNrTweets(date):\n",
    "    date = date.strftime('%Y-%m-%d')\n",
    "    return tweetcount[tweetcount['DateStr']>=date].sort_values('start').head(2)['count'].sum()\n",
    "    #return 0\n",
    "\n",
    "quakes['tweetcount'] = quakes.apply(lambda row: getNrTweets(row['date']), axis=1)"
   ]
  },
  {
   "cell_type": "code",
   "execution_count": 65,
   "metadata": {},
   "outputs": [
    {
     "data": {
      "text/html": [
       "<div>\n",
       "<style scoped>\n",
       "    .dataframe tbody tr th:only-of-type {\n",
       "        vertical-align: middle;\n",
       "    }\n",
       "\n",
       "    .dataframe tbody tr th {\n",
       "        vertical-align: top;\n",
       "    }\n",
       "\n",
       "    .dataframe thead th {\n",
       "        text-align: right;\n",
       "    }\n",
       "</style>\n",
       "<table border=\"1\" class=\"dataframe\">\n",
       "  <thead>\n",
       "    <tr style=\"text-align: right;\">\n",
       "      <th></th>\n",
       "      <th>0</th>\n",
       "      <th>1</th>\n",
       "      <th>2</th>\n",
       "      <th>3</th>\n",
       "      <th>4</th>\n",
       "      <th>5</th>\n",
       "      <th>6</th>\n",
       "      <th>7</th>\n",
       "      <th>date</th>\n",
       "      <th>tweetcount</th>\n",
       "    </tr>\n",
       "  </thead>\n",
       "  <tbody>\n",
       "    <tr>\n",
       "      <th>0</th>\n",
       "      <td>usp000hsb2</td>\n",
       "      <td>5.0</td>\n",
       "      <td>1293744150350</td>\n",
       "      <td>earthquake</td>\n",
       "      <td>M 5.0 - 108 km WSW of Isangel, Vanuatu</td>\n",
       "      <td>168.3530</td>\n",
       "      <td>-19.9840</td>\n",
       "      <td>None</td>\n",
       "      <td>2010-12-30 21:22:30.350</td>\n",
       "      <td>9819</td>\n",
       "    </tr>\n",
       "    <tr>\n",
       "      <th>1</th>\n",
       "      <td>usp000hsax</td>\n",
       "      <td>5.0</td>\n",
       "      <td>1293738996380</td>\n",
       "      <td>earthquake</td>\n",
       "      <td>M 5.0 - 156 km WSW of Severo-Kuril’sk, Russia</td>\n",
       "      <td>153.9640</td>\n",
       "      <td>50.3800</td>\n",
       "      <td>None</td>\n",
       "      <td>2010-12-30 19:56:36.380</td>\n",
       "      <td>9819</td>\n",
       "    </tr>\n",
       "    <tr>\n",
       "      <th>2</th>\n",
       "      <td>ak010gqb24bq</td>\n",
       "      <td>5.0</td>\n",
       "      <td>1293736886463</td>\n",
       "      <td>earthquake</td>\n",
       "      <td>M 5.0 - 113 km SE of Ugashik, Alaska</td>\n",
       "      <td>-156.1674</td>\n",
       "      <td>56.7391</td>\n",
       "      <td>None</td>\n",
       "      <td>2010-12-30 19:21:26.463</td>\n",
       "      <td>9819</td>\n",
       "    </tr>\n",
       "    <tr>\n",
       "      <th>3</th>\n",
       "      <td>usp000hsah</td>\n",
       "      <td>5.0</td>\n",
       "      <td>1293728174930</td>\n",
       "      <td>earthquake</td>\n",
       "      <td>M 5.0 - 21 km NE of Pilar, Philippines</td>\n",
       "      <td>126.2490</td>\n",
       "      <td>9.9890</td>\n",
       "      <td>None</td>\n",
       "      <td>2010-12-30 16:56:14.930</td>\n",
       "      <td>9819</td>\n",
       "    </tr>\n",
       "    <tr>\n",
       "      <th>4</th>\n",
       "      <td>usp000hsaa</td>\n",
       "      <td>5.6</td>\n",
       "      <td>1293719814560</td>\n",
       "      <td>earthquake</td>\n",
       "      <td>M 5.6 - 47 km WSW of Lata, Solomon Islands</td>\n",
       "      <td>165.3760</td>\n",
       "      <td>-10.8190</td>\n",
       "      <td>None</td>\n",
       "      <td>2010-12-30 14:36:54.560</td>\n",
       "      <td>9819</td>\n",
       "    </tr>\n",
       "    <tr>\n",
       "      <th>...</th>\n",
       "      <td>...</td>\n",
       "      <td>...</td>\n",
       "      <td>...</td>\n",
       "      <td>...</td>\n",
       "      <td>...</td>\n",
       "      <td>...</td>\n",
       "      <td>...</td>\n",
       "      <td>...</td>\n",
       "      <td>...</td>\n",
       "      <td>...</td>\n",
       "    </tr>\n",
       "    <tr>\n",
       "      <th>21816</th>\n",
       "      <td>us6000d3xn</td>\n",
       "      <td>5.7</td>\n",
       "      <td>1609225829079</td>\n",
       "      <td>earthquake</td>\n",
       "      <td>M 5.7 - 212 km W of Bandon, Oregon</td>\n",
       "      <td>-126.9951</td>\n",
       "      <td>43.3890</td>\n",
       "      <td>None</td>\n",
       "      <td>2020-12-29 07:10:29.079</td>\n",
       "      <td>25780</td>\n",
       "    </tr>\n",
       "    <tr>\n",
       "      <th>21817</th>\n",
       "      <td>us6000d3x8</td>\n",
       "      <td>5.4</td>\n",
       "      <td>1609223009769</td>\n",
       "      <td>earthquake</td>\n",
       "      <td>M 5.4 - 92 km W of Panguna, Papua New Guinea</td>\n",
       "      <td>154.6521</td>\n",
       "      <td>-6.3985</td>\n",
       "      <td>None</td>\n",
       "      <td>2020-12-29 06:23:29.769</td>\n",
       "      <td>25780</td>\n",
       "    </tr>\n",
       "    <tr>\n",
       "      <th>21818</th>\n",
       "      <td>us6000d3xi</td>\n",
       "      <td>5.0</td>\n",
       "      <td>1609222744705</td>\n",
       "      <td>earthquake</td>\n",
       "      <td>M 5.0 - 92 km W of Panguna, Papua New Guinea</td>\n",
       "      <td>154.6586</td>\n",
       "      <td>-6.4549</td>\n",
       "      <td>None</td>\n",
       "      <td>2020-12-29 06:19:04.705</td>\n",
       "      <td>25780</td>\n",
       "    </tr>\n",
       "    <tr>\n",
       "      <th>21819</th>\n",
       "      <td>us6000d3x5</td>\n",
       "      <td>5.1</td>\n",
       "      <td>1609222417216</td>\n",
       "      <td>earthquake</td>\n",
       "      <td>M 5.1 - 90 km WSW of Panguna, Papua New Guinea</td>\n",
       "      <td>154.6909</td>\n",
       "      <td>-6.4950</td>\n",
       "      <td>None</td>\n",
       "      <td>2020-12-29 06:13:37.216</td>\n",
       "      <td>25780</td>\n",
       "    </tr>\n",
       "    <tr>\n",
       "      <th>21820</th>\n",
       "      <td>us6000gaq5</td>\n",
       "      <td>6.0</td>\n",
       "      <td>1639015509547</td>\n",
       "      <td>earthquake</td>\n",
       "      <td>M 6.0 - 119 km N of Naze, Japan</td>\n",
       "      <td>129.4172</td>\n",
       "      <td>29.4414</td>\n",
       "      <td>None</td>\n",
       "      <td>2021-12-09 02:05:09.547</td>\n",
       "      <td>0</td>\n",
       "    </tr>\n",
       "  </tbody>\n",
       "</table>\n",
       "<p>21821 rows × 10 columns</p>\n",
       "</div>"
      ],
      "text/plain": [
       "                  0    1              2           3  \\\n",
       "0        usp000hsb2  5.0  1293744150350  earthquake   \n",
       "1        usp000hsax  5.0  1293738996380  earthquake   \n",
       "2      ak010gqb24bq  5.0  1293736886463  earthquake   \n",
       "3        usp000hsah  5.0  1293728174930  earthquake   \n",
       "4        usp000hsaa  5.6  1293719814560  earthquake   \n",
       "...             ...  ...            ...         ...   \n",
       "21816    us6000d3xn  5.7  1609225829079  earthquake   \n",
       "21817    us6000d3x8  5.4  1609223009769  earthquake   \n",
       "21818    us6000d3xi  5.0  1609222744705  earthquake   \n",
       "21819    us6000d3x5  5.1  1609222417216  earthquake   \n",
       "21820    us6000gaq5  6.0  1639015509547  earthquake   \n",
       "\n",
       "                                                    4         5        6  \\\n",
       "0              M 5.0 - 108 km WSW of Isangel, Vanuatu  168.3530 -19.9840   \n",
       "1       M 5.0 - 156 km WSW of Severo-Kuril’sk, Russia  153.9640  50.3800   \n",
       "2                M 5.0 - 113 km SE of Ugashik, Alaska -156.1674  56.7391   \n",
       "3              M 5.0 - 21 km NE of Pilar, Philippines  126.2490   9.9890   \n",
       "4          M 5.6 - 47 km WSW of Lata, Solomon Islands  165.3760 -10.8190   \n",
       "...                                               ...       ...      ...   \n",
       "21816              M 5.7 - 212 km W of Bandon, Oregon -126.9951  43.3890   \n",
       "21817    M 5.4 - 92 km W of Panguna, Papua New Guinea  154.6521  -6.3985   \n",
       "21818    M 5.0 - 92 km W of Panguna, Papua New Guinea  154.6586  -6.4549   \n",
       "21819  M 5.1 - 90 km WSW of Panguna, Papua New Guinea  154.6909  -6.4950   \n",
       "21820                 M 6.0 - 119 km N of Naze, Japan  129.4172  29.4414   \n",
       "\n",
       "          7                    date  tweetcount  \n",
       "0      None 2010-12-30 21:22:30.350        9819  \n",
       "1      None 2010-12-30 19:56:36.380        9819  \n",
       "2      None 2010-12-30 19:21:26.463        9819  \n",
       "3      None 2010-12-30 16:56:14.930        9819  \n",
       "4      None 2010-12-30 14:36:54.560        9819  \n",
       "...     ...                     ...         ...  \n",
       "21816  None 2020-12-29 07:10:29.079       25780  \n",
       "21817  None 2020-12-29 06:23:29.769       25780  \n",
       "21818  None 2020-12-29 06:19:04.705       25780  \n",
       "21819  None 2020-12-29 06:13:37.216       25780  \n",
       "21820  None 2021-12-09 02:05:09.547           0  \n",
       "\n",
       "[21821 rows x 10 columns]"
      ]
     },
     "execution_count": 65,
     "metadata": {},
     "output_type": "execute_result"
    }
   ],
   "source": [
    "quakes"
   ]
  },
  {
   "cell_type": "markdown",
   "metadata": {},
   "source": [
    "## Plot the correlation"
   ]
  },
  {
   "cell_type": "code",
   "execution_count": 77,
   "metadata": {},
   "outputs": [
    {
     "data": {
      "text/plain": [
       "Text(0, 0.5, 'Magnitude')"
      ]
     },
     "execution_count": 77,
     "metadata": {},
     "output_type": "execute_result"
    },
    {
     "data": {
      "image/png": "[encoded data removed]",
      "text/plain": [
       "<Figure size 1080x720 with 1 Axes>"
      ]
     },
     "metadata": {
      "needs_background": "light"
     },
     "output_type": "display_data"
    }
   ],
   "source": [
    "# All tweets and all magnitudes\n",
    "ax = quakes.plot(x='tweetcount', y=1, kind='scatter', figsize=(15,10))\n",
    "ax.set_xlabel('Amount of tweets')\n",
    "ax.set_ylabel('Magnitude')"
   ]
  },
  {
   "cell_type": "code",
   "execution_count": 78,
   "metadata": {},
   "outputs": [
    {
     "data": {
      "text/plain": [
       "Text(0, 0.5, 'Magnitude')"
      ]
     },
     "execution_count": 78,
     "metadata": {},
     "output_type": "execute_result"
    },
    {
     "data": {
      "image/png": "[encoded data removed]",
      "text/plain": [
       "<Figure size 1080x720 with 1 Axes>"
      ]
     },
     "metadata": {
      "needs_background": "light"
     },
     "output_type": "display_data"
    }
   ],
   "source": [
    "# Filter only for earthquakes above mag 6\n",
    "ax = quakes[quakes[1]>=7].plot(x='tweetcount', y=1, kind='scatter', figsize=(15,10))\n",
    "ax.set_xlabel('Amount of tweets')\n",
    "ax.set_ylabel('Magnitude')"
   ]
  },
  {
   "cell_type": "code",
   "execution_count": 82,
   "metadata": {},
   "outputs": [
    {
     "data": {
      "text/plain": [
       "Text(0.5, 1.0, 'Correlation between magnitude and amount of tweets')"
      ]
     },
     "execution_count": 82,
     "metadata": {},
     "output_type": "execute_result"
    },
    {
     "data": {
      "image/png": "[encoded data removed]",
      "text/plain": [
       "<Figure size 1080x720 with 1 Axes>"
      ]
     },
     "metadata": {
      "needs_background": "light"
     },
     "output_type": "display_data"
    }
   ],
   "source": [
    "# Only take one earthquake per day (the heaviest)\n",
    "ax = quakes.sort_values(2, ascending=False).groupby(quakes['date'].dt.floor('d')).first().plot(x='tweetcount', y=1, kind='scatter', figsize=(15,10))\n",
    "ax.set_xlabel('Amount of tweets')\n",
    "ax.set_ylabel('Magnitude')\n",
    "ax.set_title('Correlation between magnitude and amount of tweets')"
   ]
  },
  {
   "cell_type": "code",
   "execution_count": null,
   "metadata": {},
   "outputs": [],
   "source": []
  }
 ],
 "metadata": {
  "kernelspec": {
   "display_name": "Python 3",
   "language": "python",
   "name": "python3"
  },
  "language_info": {
   "codemirror_mode": {
    "name": "ipython",
    "version": 3
   },
   "file_extension": ".py",
   "mimetype": "text/x-python",
   "name": "python",
   "nbconvert_exporter": "python",
   "pygments_lexer": "ipython3",
   "version": "3.8.5"
  }
 },
 "nbformat": 4,
 "nbformat_minor": 4
}
